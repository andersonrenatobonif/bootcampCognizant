{
 "cells": [
  {
   "cell_type": "markdown",
   "id": "d3862355",
   "metadata": {},
   "source": [
    "Leia 3 valores reais (A, B e C) e verifique se eles formam ou não um triângulo. Em caso positivo, calcule o perímetro do triângulo (soma de todos os lados) e apresente a mensagem:\n",
    "\n",
    "Perimetro = XX.X\n",
    "\n",
    "Em caso negativo, calcule a área do trapézio que tem A e B como base e C como altura, mostrando a mensagem:\n",
    "\n",
    "Area = XX.X\n",
    "\n",
    "Fórmula da área de um trapézio: AREA = ((A + B) x C) / 2\n",
    "\n",
    "Entrada\n",
    "A entrada contém três valores reais.\n",
    "\n",
    "Saída\n",
    "O resultado deve ser apresentado com uma casa decimal"
   ]
  },
  {
   "cell_type": "code",
   "execution_count": 14,
   "id": "e2f3e5e9",
   "metadata": {},
   "outputs": [
    {
     "name": "stdout",
     "output_type": "stream",
     "text": [
      "-7\n",
      "8\n",
      "10\n",
      "Area = 5.0\n"
     ]
    }
   ],
   "source": [
    "#lados = [float(x) for x in input().split()]\n",
    "\n",
    "#a = lados[0];\n",
    "#b = lados[1];\n",
    "#c = lados[2];\n",
    "\n",
    "a = float(input())\n",
    "b = float(input())\n",
    "c = float(input())\n",
    "\n",
    "\n",
    "perimetro = a + b + c\n",
    "area = ((a + b) * c) * (0.5)\n",
    "\n",
    "if a + b > c and a + c > b and b + c > a:\n",
    "    #TODO Preencha a formula do perímeto do triangulo (soma de todos os lados).\n",
    "    print(f\"Perimetro = { round(perimetro, 1)}\")\n",
    "else:\n",
    "    #TODO Preencha a formula da área do trapézio: AREA = ((A + B) x C) / 2\n",
    "    print(f\"Area = { round(area, 1)}\")"
   ]
  },
  {
   "cell_type": "code",
   "execution_count": null,
   "id": "099017bf",
   "metadata": {},
   "outputs": [],
   "source": []
  },
  {
   "cell_type": "markdown",
   "id": "b64d15bd",
   "metadata": {},
   "source": []
  }
 ],
 "metadata": {
  "kernelspec": {
   "display_name": "Python 3 (ipykernel)",
   "language": "python",
   "name": "python3"
  },
  "language_info": {
   "codemirror_mode": {
    "name": "ipython",
    "version": 3
   },
   "file_extension": ".py",
   "mimetype": "text/x-python",
   "name": "python",
   "nbconvert_exporter": "python",
   "pygments_lexer": "ipython3",
   "version": "3.9.7"
  }
 },
 "nbformat": 4,
 "nbformat_minor": 5
}
