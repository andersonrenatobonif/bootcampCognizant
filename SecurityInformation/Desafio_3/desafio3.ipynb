{
 "cells": [
  {
   "cell_type": "markdown",
   "id": "e1697993",
   "metadata": {},
   "source": [
    "Desafio\n",
    "Crie um programa que leia 6 valores, os quais poderão ser negativos e/ou positivos. Em seguida, apresente a quantidade de valores positivos digitados.\n",
    "\n",
    "Entrada\n",
    "Você receberá seis valores, negativos e/ou positivos.\n",
    "\n",
    "Saída\n",
    "Exiba uma mensagem dizendo quantos valores positivos foram lidos. assim como é exibido abaixo no exemplo de saída. Não se esqueça de incluir na mensagem de saída o sufixo \" valores positivos\", conforme o exemplo abaixo:\n",
    "\n",
    " \n",
    "Exemplo de Entrada\tExemplo de Saída\n",
    "7\n",
    "-5\n",
    "6\n",
    "-3.4\n",
    "4.6\n",
    "12\n",
    "\n",
    "4 valores positivos"
   ]
  },
  {
   "cell_type": "code",
   "execution_count": 16,
   "id": "14f404b1",
   "metadata": {},
   "outputs": [
    {
     "name": "stdout",
     "output_type": "stream",
     "text": [
      "6\n",
      "-1\n",
      "-2\n",
      "-3\n",
      "-4\n",
      "-5\n",
      "1 valores positivos\n"
     ]
    }
   ],
   "source": [
    "counter = 0\n",
    "for num in range(6):\n",
    "    list_num = float(input())\n",
    "    if list_num > 0:\n",
    "        counter+=1\n",
    "                    \n",
    "print(f'{counter} valores positivos')"
   ]
  },
  {
   "cell_type": "code",
   "execution_count": 13,
   "id": "123232dd",
   "metadata": {},
   "outputs": [
    {
     "name": "stdout",
     "output_type": "stream",
     "text": [
      "7\n",
      "9\n",
      "8\n",
      "-8\n",
      "-9\n",
      "-7\n",
      "3 valores positivos\n"
     ]
    }
   ],
   "source": [
    "#TODO: Complete os espaços em branco com uma solução possível para o problema.\n",
    "counter = 0\n",
    "for num in range(6):\n",
    "    number = float(input())\n",
    "    if number > 0:\n",
    "        counter +=1\n",
    "       \n",
    "print(f'{counter} valores positivos')"
   ]
  },
  {
   "cell_type": "code",
   "execution_count": null,
   "id": "29fb01cc",
   "metadata": {},
   "outputs": [],
   "source": [
    "list"
   ]
  },
  {
   "cell_type": "code",
   "execution_count": null,
   "id": "c9a9a335",
   "metadata": {},
   "outputs": [],
   "source": []
  }
 ],
 "metadata": {
  "kernelspec": {
   "display_name": "Python 3 (ipykernel)",
   "language": "python",
   "name": "python3"
  },
  "language_info": {
   "codemirror_mode": {
    "name": "ipython",
    "version": 3
   },
   "file_extension": ".py",
   "mimetype": "text/x-python",
   "name": "python",
   "nbconvert_exporter": "python",
   "pygments_lexer": "ipython3",
   "version": "3.9.7"
  }
 },
 "nbformat": 4,
 "nbformat_minor": 5
}
